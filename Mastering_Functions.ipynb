{
 "cells": [
  {
   "cell_type": "markdown",
   "metadata": {},
   "source": [
    "**what are function?\n",
    "**how to create and call a function ?\n",
    "**function documentation.\n",
    "**function scope.\n",
    "**required arguments. \n",
    "**default arguments. \n",
    "**key-worded arguments. \n",
    "**variable length arguments (*args and **args)."
   ]
  },
  {
   "cell_type": "markdown",
   "metadata": {},
   "source": [
    "### Python Functions"
   ]
  },
  {
   "cell_type": "markdown",
   "metadata": {},
   "source": [
    "A function is a block of reusable code that is used to perform a specific action. Functions help break our program into smaller and modular chunks. \n",
    "As our program grows larger and larger, functions make it more organized and manageable. Furthermore, it avoids repetition and makes code reusable."
   ]
  },
  {
   "cell_type": "code",
   "execution_count": null,
   "metadata": {},
   "outputs": [],
   "source": [
    "# Understanding Functions \n",
    "\n",
    "def sum_of_list(numbers):\n",
    "    \"\"\"\n",
    "        Function to perform sum of all numbers in a list.\n",
    "    \"\"\"\n",
    "    total = 0\n",
    "    for x in numbers:\n",
    "        total += x\n",
    "    return total\n"
   ]
  },
  {
   "cell_type": "markdown",
   "metadata": {},
   "source": [
    "### Calling Function"
   ]
  },
  {
   "cell_type": "code",
   "execution_count": null,
   "metadata": {},
   "outputs": [],
   "source": [
    "sum_of_list((8, 2, 3, 0, 7))"
   ]
  },
  {
   "cell_type": "code",
   "execution_count": null,
   "metadata": {},
   "outputs": [],
   "source": [
    "def add_two_numbers(num1, num2):\n",
    "    '''returns the sum of num1 and num2'''\n",
    "    return num1 + num2"
   ]
  },
  {
   "cell_type": "code",
   "execution_count": null,
   "metadata": {},
   "outputs": [],
   "source": [
    "add_two_numbers(10, 20)"
   ]
  },
  {
   "cell_type": "code",
   "execution_count": null,
   "metadata": {},
   "outputs": [],
   "source": [
    "def function1():\n",
    "    print(\"Python Programming\")"
   ]
  },
  {
   "cell_type": "code",
   "execution_count": null,
   "metadata": {},
   "outputs": [],
   "source": [
    "function1()"
   ]
  },
  {
   "cell_type": "code",
   "execution_count": null,
   "metadata": {},
   "outputs": [],
   "source": [
    "def odd_even(num):\n",
    "    \"\"\"this program function checks the number is odd or even,\n",
    "         if the number is even then it return string even else returns odd.\n",
    "    \"\"\"\n",
    "    if num %2 == 0:\n",
    "        return \"Even\"\n",
    "    else:\n",
    "        return \"Odd\""
   ]
  },
  {
   "cell_type": "code",
   "execution_count": null,
   "metadata": {},
   "outputs": [],
   "source": [
    "odd_even(2)"
   ]
  },
  {
   "cell_type": "code",
   "execution_count": null,
   "metadata": {},
   "outputs": [],
   "source": [
    "odd_even(1)"
   ]
  },
  {
   "cell_type": "code",
   "execution_count": null,
   "metadata": {},
   "outputs": [],
   "source": [
    "def test_doc():\n",
    "    \"\"\"\n",
    "    Welcome to Python Function\n",
    "    This function will print the greetings\n",
    "    \"\"\"\n",
    "    print \"Welcome To Python Programming\"  "
   ]
  },
  {
   "cell_type": "code",
   "execution_count": null,
   "metadata": {},
   "outputs": [],
   "source": [
    "var = test_doc\n",
    "print(var)"
   ]
  },
  {
   "cell_type": "code",
   "execution_count": null,
   "metadata": {},
   "outputs": [],
   "source": [
    "var = [10, 20, test_doc()]\n",
    "print(var)\n"
   ]
  },
  {
   "cell_type": "code",
   "execution_count": null,
   "metadata": {},
   "outputs": [],
   "source": [
    "dir(test_doc)"
   ]
  },
  {
   "cell_type": "code",
   "execution_count": null,
   "metadata": {},
   "outputs": [],
   "source": [
    "test_doc.__doc__"
   ]
  },
  {
   "cell_type": "markdown",
   "metadata": {},
   "source": [
    "### Scope and Lifetime of variables"
   ]
  },
  {
   "cell_type": "code",
   "execution_count": null,
   "metadata": {},
   "outputs": [],
   "source": [
    "def scope():\n",
    "    \"\"\"\n",
    "        function to demonstrate scope of the function\n",
    "    \"\"\"\n",
    "    var = \"Local Scope\"\n",
    "    print(var)"
   ]
  },
  {
   "cell_type": "code",
   "execution_count": null,
   "metadata": {},
   "outputs": [],
   "source": [
    "scope()"
   ]
  },
  {
   "cell_type": "code",
   "execution_count": null,
   "metadata": {},
   "outputs": [],
   "source": [
    "var"
   ]
  },
  {
   "cell_type": "code",
   "execution_count": null,
   "metadata": {},
   "outputs": [],
   "source": [
    "var = 20\n",
    "def scope():\n",
    "    var = 10\n",
    "    print(\"Value inside function:\",var)"
   ]
  },
  {
   "cell_type": "code",
   "execution_count": null,
   "metadata": {},
   "outputs": [],
   "source": [
    "scope()"
   ]
  },
  {
   "cell_type": "code",
   "execution_count": null,
   "metadata": {},
   "outputs": [],
   "source": [
    "print(\"Value outside function:\",var)"
   ]
  },
  {
   "cell_type": "code",
   "execution_count": null,
   "metadata": {},
   "outputs": [],
   "source": [
    "var = 20\n",
    "def scope():\n",
    "    print(\"Value inside function:\",var)"
   ]
  },
  {
   "cell_type": "code",
   "execution_count": null,
   "metadata": {},
   "outputs": [],
   "source": [
    "scope()"
   ]
  },
  {
   "cell_type": "code",
   "execution_count": null,
   "metadata": {},
   "outputs": [],
   "source": [
    "print(\"Value outside function:\",var)"
   ]
  },
  {
   "cell_type": "markdown",
   "metadata": {},
   "source": [
    "### Function Arguments "
   ]
  },
  {
   "cell_type": "markdown",
   "metadata": {},
   "source": [
    "### Required Arguments  "
   ]
  },
  {
   "cell_type": "code",
   "execution_count": null,
   "metadata": {},
   "outputs": [],
   "source": [
    "def add_two_numbers(num1, num2):\n",
    "    return num1 + num2"
   ]
  },
  {
   "cell_type": "code",
   "execution_count": null,
   "metadata": {},
   "outputs": [],
   "source": [
    "add_two_numbers(10, 20)"
   ]
  },
  {
   "cell_type": "code",
   "execution_count": null,
   "metadata": {},
   "outputs": [],
   "source": [
    "add_two_numbers(10)"
   ]
  },
  {
   "cell_type": "code",
   "execution_count": null,
   "metadata": {},
   "outputs": [],
   "source": [
    "add_two_numbers()"
   ]
  },
  {
   "cell_type": "markdown",
   "metadata": {},
   "source": [
    "### Default Arguments "
   ]
  },
  {
   "cell_type": "code",
   "execution_count": null,
   "metadata": {},
   "outputs": [],
   "source": [
    "def repeat(message, repetition=1):\n",
    "    \"\"\"\n",
    "    This function repeats the message rep number of times  \n",
    "    \"\"\"\n",
    "    print(message *repetition)"
   ]
  },
  {
   "cell_type": "code",
   "execution_count": null,
   "metadata": {},
   "outputs": [],
   "source": [
    "repeat(\"Python\", repetition = 10)"
   ]
  },
  {
   "cell_type": "code",
   "execution_count": null,
   "metadata": {},
   "outputs": [],
   "source": [
    "repeat(\"Python\")"
   ]
  },
  {
   "cell_type": "code",
   "execution_count": null,
   "metadata": {},
   "outputs": [],
   "source": [
    "def repeat(repetition=1, message):\n",
    "    \"\"\"\n",
    "    This function repeats the message rep number of times  \n",
    "    \"\"\"\n",
    "    print(message * rep)"
   ]
  },
  {
   "cell_type": "markdown",
   "metadata": {},
   "source": [
    "### Keyword Arguments"
   ]
  },
  {
   "cell_type": "code",
   "execution_count": null,
   "metadata": {},
   "outputs": [],
   "source": [
    "def calculator(operation = \"addition\", num1 = 0, num2 = 0):\n",
    "    if operation == \"addition\":\n",
    "        return num1 + num2\n",
    "    if operation == \"subtract\":\n",
    "        return num1 - num2\n",
    "    if operation == \"multiply\":\n",
    "        return num1 * num2\n",
    "    if operation == \"division\" and num1 != 0:\n",
    "        return num1 % num2\n",
    "    else:\n",
    "        print(\"invalid inputs for division\")\n"
   ]
  },
  {
   "cell_type": "code",
   "execution_count": null,
   "metadata": {},
   "outputs": [],
   "source": [
    "print(calculator(operation = \"addition\", num1 = 100, num2 = 200))\n",
    "print(calculator(operation = \"subtract\", num1 = 100, num2 = 200))\n",
    "print(calculator(operation = \"multiply\", num1 = 100, num2 = 200))\n",
    "print(calculator(operation = \"division\", num1 = 100, num2 = 200))"
   ]
  },
  {
   "cell_type": "code",
   "execution_count": null,
   "metadata": {},
   "outputs": [],
   "source": [
    "calculator(num1 = 100, num2 = 200)"
   ]
  },
  {
   "cell_type": "code",
   "execution_count": null,
   "metadata": {},
   "outputs": [],
   "source": [
    "print(calculator(operation = \"multiply\", num2 = 100, num1 = 200))\n",
    "print(calculator(num2 = 100, num1 = 200, operation = \"multiply\"))\n",
    "print(calculator(num2 = 100, operation = \"multiply\", num1 = 200))"
   ]
  },
  {
   "cell_type": "code",
   "execution_count": null,
   "metadata": {},
   "outputs": [],
   "source": [
    "def calculator(operation, num1 = 0, num2 = 0):\n",
    "    if operation == \"addition\":\n",
    "        return num1 + num2\n",
    "    if operation == \"subtract\":\n",
    "        return num1 - num2\n",
    "    if operation == \"multiply\":\n",
    "        return num1 * num2\n",
    "    if operation == \"division\" and num1 != 0:\n",
    "        return num1 % num2\n",
    "    else:\n",
    "        print(\"invalid inputs for division\")"
   ]
  },
  {
   "cell_type": "code",
   "execution_count": null,
   "metadata": {},
   "outputs": [],
   "source": [
    "calculator(\"addition\", num1 = 100, num2 = 200)"
   ]
  },
  {
   "cell_type": "code",
   "execution_count": null,
   "metadata": {},
   "outputs": [],
   "source": [
    "calculator(num1 = 100, num2 = 200, \"addition\")"
   ]
  },
  {
   "cell_type": "code",
   "execution_count": null,
   "metadata": {},
   "outputs": [],
   "source": [
    "def calculator( num1 = 0, num2 = 0, operation):\n",
    "    if operation == \"addition\":\n",
    "        return num1 + num2\n",
    "    if operation == \"subtract\":\n",
    "        return num1 - num2\n",
    "    if operation == \"multiply\":\n",
    "        return num1 * num2\n",
    "\n",
    "    if operation == \"division\" and num1 != 0:\n",
    "        return num1 % num2\n",
    "    else:\n",
    "        print(\"invalid inputs for division\")"
   ]
  },
  {
   "cell_type": "markdown",
   "metadata": {},
   "source": [
    "### Variable Length Arguments "
   ]
  },
  {
   "cell_type": "code",
   "execution_count": null,
   "metadata": {},
   "outputs": [],
   "source": [
    "def args_kwargs(*args, **kwargs):\n",
    "    pass"
   ]
  },
  {
   "cell_type": "code",
   "execution_count": null,
   "metadata": {},
   "outputs": [],
   "source": [
    "def calculator(operation, *args):\n",
    "    print(type(args))\n",
    "    if operation == \"addition\":\n",
    "        total = 0\n",
    "        for item in args:\n",
    "            total += item\n",
    "        return total\n",
    "    if operation == \"multiply\":\n",
    "        total = 1\n",
    "        for item in args:\n",
    "            total *= item\n",
    "        return total"
   ]
  },
  {
   "cell_type": "code",
   "execution_count": null,
   "metadata": {},
   "outputs": [],
   "source": [
    "calculator(\"addition\", 10, 20, 30, 40)\n",
    "calculator(\"multiply\", 10, 20, 30, 40)"
   ]
  },
  {
   "cell_type": "code",
   "execution_count": null,
   "metadata": {},
   "outputs": [],
   "source": [
    "def calculator(operation, **kwargs):\n",
    "    print(type(kwargs))\n",
    "    if operation == \"addition\":\n",
    "        total = 0\n",
    "        for item in kwargs.values():\n",
    "            total += item\n",
    "        return total\n",
    "    if operation == \"multiply\":\n",
    "        total = 1\n",
    "        for item in kwargs.values():\n",
    "            total *= item\n",
    "        return total"
   ]
  },
  {
   "cell_type": "code",
   "execution_count": null,
   "metadata": {},
   "outputs": [],
   "source": [
    "print(calculator(\"addition\", arg1 = 10, arg2 = 20, arg3 = 30))\n",
    "print(calculator(\"multiply\", arg1 = 10, arg2 = 20, arg3 = 30))"
   ]
  },
  {
   "cell_type": "code",
   "execution_count": null,
   "metadata": {},
   "outputs": [],
   "source": [
    "def calculator(operation, *args, **kwargs):\n",
    "    print(type(args))\n",
    "    print(type(kwargs))\n",
    "    if operation == \"addition\":\n",
    "        total = 0\n",
    "        for item in args:\n",
    "            total += item\n",
    "        for item in kwargs.values():\n",
    "            total += item\n",
    "        return total\n",
    "    if operation == \"multiply\":\n",
    "        total = 1\n",
    "        for item in args:\n",
    "            total *= item\n",
    "        for item in kwargs.values():\n",
    "            total *= item\n",
    "        return total"
   ]
  },
  {
   "cell_type": "code",
   "execution_count": null,
   "metadata": {},
   "outputs": [],
   "source": [
    "print(calculator(\"addition\", 10, 20, arg1 = 30, arg2 = 40))\n",
    "print(calculator(\"multiply\", 10, 20, arg1 = 30, arg2 = 40))"
   ]
  },
  {
   "cell_type": "markdown",
   "metadata": {},
   "source": [
    "### Scope and Lifetime of Variable "
   ]
  },
  {
   "cell_type": "markdown",
   "metadata": {},
   "source": [
    "#### What is Name in Python?"
   ]
  },
  {
   "cell_type": "code",
   "execution_count": null,
   "metadata": {},
   "outputs": [],
   "source": [
    "var= 2"
   ]
  },
  {
   "cell_type": "code",
   "execution_count": null,
   "metadata": {},
   "outputs": [],
   "source": [
    "print('id(2) =', id(2))\n",
    "print('id(var) =', id(var))"
   ]
  },
  {
   "cell_type": "code",
   "execution_count": null,
   "metadata": {},
   "outputs": [],
   "source": [
    "var = var + 1"
   ]
  },
  {
   "cell_type": "code",
   "execution_count": null,
   "metadata": {},
   "outputs": [],
   "source": [
    "print(id(2))\n",
    "print(id(var))"
   ]
  },
  {
   "cell_type": "code",
   "execution_count": null,
   "metadata": {},
   "outputs": [],
   "source": [
    "temp = 2 "
   ]
  },
  {
   "cell_type": "code",
   "execution_count": null,
   "metadata": {},
   "outputs": [],
   "source": [
    "print(id(temp))"
   ]
  },
  {
   "cell_type": "markdown",
   "metadata": {},
   "source": [
    "#### What are namespace in Python ?"
   ]
  },
  {
   "cell_type": "raw",
   "metadata": {},
   "source": [
    "a_namespace = {'name_a':object_1, 'name_b':object_2, ...}"
   ]
  },
  {
   "cell_type": "raw",
   "metadata": {},
   "source": [
    "a_namespace = {'name_a':object_1, 'name_b':object_2, ...}\n",
    "b_namespace = {'name_a':object_3, 'name_b':object_4, ...}"
   ]
  },
  {
   "cell_type": "code",
   "execution_count": null,
   "metadata": {},
   "outputs": [],
   "source": [
    "glob = \"Python\"\n",
    "def scope():\n",
    "    loc = \"Python Programming\"\n",
    "    print(\"Local Value Of Var :\", var)\n",
    "    print('loc' in locals())\n",
    "    \n",
    "print(\"Global Value Of Var :\", var)\n",
    "scope()"
   ]
  },
  {
   "cell_type": "code",
   "execution_count": null,
   "metadata": {},
   "outputs": [],
   "source": [
    "'loc' in local()"
   ]
  },
  {
   "cell_type": "code",
   "execution_count": null,
   "metadata": {},
   "outputs": [],
   "source": [
    "'glob' in globals()"
   ]
  },
  {
   "cell_type": "code",
   "execution_count": null,
   "metadata": {},
   "outputs": [],
   "source": [
    "var = \"Python\"\n",
    "def function1():\n",
    "    var = \"Python Programming\"\n",
    "    print(\"Local Value Of Var :\", var)\n",
    "print(\"Global Value Of Var :\", var)\n",
    "scope()"
   ]
  },
  {
   "cell_type": "markdown",
   "metadata": {},
   "source": [
    "### Rule of LEBG"
   ]
  },
  {
   "cell_type": "raw",
   "metadata": {},
   "source": [
    "Local -> Enclosed -> Global -> Built-in"
   ]
  },
  {
   "cell_type": "markdown",
   "metadata": {},
   "source": [
    "#### Global Variable"
   ]
  },
  {
   "cell_type": "code",
   "execution_count": null,
   "metadata": {},
   "outputs": [],
   "source": [
    "var = \"Global Variable\"\n",
    "def function2():\n",
    "    print(\"Inside Function :\", var)\n",
    "    \n",
    "scope()\n",
    "print(\"Outside Function :\", var)"
   ]
  },
  {
   "cell_type": "code",
   "execution_count": null,
   "metadata": {},
   "outputs": [],
   "source": [
    "var = 10\n",
    "def function3():\n",
    "    var = var + 20\n",
    "    print(\"Inside Function :\", var)\n",
    "\n",
    "scope()\n",
    "print(\"Outside Function :\", var)"
   ]
  },
  {
   "cell_type": "code",
   "execution_count": null,
   "metadata": {},
   "outputs": [],
   "source": [
    "var = 10\n",
    "def function4():\n",
    "    global var\n",
    "    var = var + 20\n",
    "    print(\"Inside Function :\", var)\n",
    "\n",
    "scope()\n",
    "print(\"Outside Function :\", var)\n"
   ]
  },
  {
   "cell_type": "markdown",
   "metadata": {},
   "source": [
    "#### Global keyword"
   ]
  },
  {
   "cell_type": "code",
   "execution_count": null,
   "metadata": {},
   "outputs": [],
   "source": [
    "Var = 10\n",
    "def outer():\n",
    "    var = 20\n",
    "\n",
    "    def inner():\n",
    "        global var\n",
    "        var = 30\n",
    "        print(\"Inside Nested Function\", var)\n",
    "\n",
    "    print(\"Before Calling Inner: \", var)\n",
    "    inner()\n",
    "    print(\"After Calling Inner: \", var)\n",
    "\n",
    "outer()\n",
    "print(\"Variable In Global Scope : \", var)"
   ]
  },
  {
   "cell_type": "markdown",
   "metadata": {},
   "source": [
    "### Local Variables"
   ]
  },
  {
   "cell_type": "code",
   "execution_count": null,
   "metadata": {},
   "outputs": [],
   "source": [
    "def function5():\n",
    "    var = \"Local Variable\"\n",
    "    print(\"Local Scope :\", var)\n"
   ]
  },
  {
   "cell_type": "code",
   "execution_count": null,
   "metadata": {},
   "outputs": [],
   "source": [
    "function5()"
   ]
  },
  {
   "cell_type": "code",
   "execution_count": null,
   "metadata": {},
   "outputs": [],
   "source": [
    "def function6():\n",
    "    var = \"Local Variable\"\n",
    "    print(\"Local Scope :\", var)\n",
    "    \n",
    "function6()\n",
    "print(\"Global Scope\", var)\n"
   ]
  },
  {
   "cell_type": "code",
   "execution_count": null,
   "metadata": {},
   "outputs": [],
   "source": [
    "var = 5\n",
    "\n",
    "def function8():\n",
    "    var = 10\n",
    "    print(\"Local Variable :\", var)\n",
    "\n",
    "function8()\n",
    "print(\"Global Variable :\", var)"
   ]
  },
  {
   "cell_type": "markdown",
   "metadata": {},
   "source": [
    "### Enclosed Variable "
   ]
  },
  {
   "cell_type": "code",
   "execution_count": null,
   "metadata": {},
   "outputs": [],
   "source": [
    "var = \"Global\"\n",
    "def outer():\n",
    "    var = \"Enclosed\"\n",
    "    def inner():\n",
    "        var = \"Local\"\n",
    "        print(\"Inside Inner Function :\", var)\n",
    "    inner()\n",
    "    print(\"Inside Outer Function :\", var)\n",
    "outer()\n",
    "print(\"Global Function :\", var)\n"
   ]
  },
  {
   "cell_type": "code",
   "execution_count": null,
   "metadata": {
    "scrolled": false
   },
   "outputs": [],
   "source": [
    "glob = 10\n",
    "def outer():\n",
    "    var = 20\n",
    "    def inner():\n",
    "        var = var + 30\n",
    "        print(\"Inside Inner Function :\", loc)\n",
    "    inner()\n",
    "    print(\"Inside Outer Function :\", enclosed)\n",
    "outer()\n",
    "print(\"Global Function :\", glob)\n"
   ]
  },
  {
   "cell_type": "markdown",
   "metadata": {},
   "source": [
    "#### Nonlocal Keyword"
   ]
  },
  {
   "cell_type": "code",
   "execution_count": null,
   "metadata": {},
   "outputs": [],
   "source": [
    "glob = 10\n",
    "def outer():\n",
    "    var = 20\n",
    "    def inner():\n",
    "        nonlocal var\n",
    "        var = var + 30\n",
    "        print(\"Inside Inner Function :\", loc)\n",
    "    inner()\n",
    "    print(\"Inside Outer Function :\", enclosed)\n",
    "outer()\n",
    "print(\"Global Function :\", glob)\n"
   ]
  },
  {
   "cell_type": "code",
   "execution_count": null,
   "metadata": {},
   "outputs": [],
   "source": []
  }
 ],
 "metadata": {
  "kernelspec": {
   "display_name": "Python 2",
   "language": "python",
   "name": "python2"
  },
  "language_info": {
   "codemirror_mode": {
    "name": "ipython",
    "version": 2
   },
   "file_extension": ".py",
   "mimetype": "text/x-python",
   "name": "python",
   "nbconvert_exporter": "python",
   "pygments_lexer": "ipython2",
   "version": "2.7.14"
  }
 },
 "nbformat": 4,
 "nbformat_minor": 2
}
